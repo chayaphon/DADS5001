{
 "cells": [
  {
   "cell_type": "markdown",
   "metadata": {},
   "source": [
    "<a href=\"https://colab.research.google.com/github/chayaphon/DADS5001/blob/main/temp/ploywidget.ipynb#scrollTo=IzFf1CXgipHb\" target=\"_blank\"><img src=\"https://colab.research.google.com/assets/colab-badge.svg\" alt=\"Open In Colab\"/></a>"
   ]
  },
  {
   "cell_type": "code",
   "execution_count": 1,
   "metadata": {},
   "outputs": [
    {
     "data": {
      "application/vnd.jupyter.widget-view+json": {
       "model_id": "de918715a6d2411c8e4c608f04b34d4a",
       "version_major": 2,
       "version_minor": 0
      },
      "text/plain": [
       "interactive(children=(Select(description='Year:', options=(2020, 2021), value=2020), Output()), _dom_classes=(…"
      ]
     },
     "metadata": {},
     "output_type": "display_data"
    },
    {
     "data": {
      "application/vnd.jupyter.widget-view+json": {
       "model_id": "c2d3313f2b11402db66b0c9ffa7d2242",
       "version_major": 2,
       "version_minor": 0
      },
      "text/plain": [
       "FigureWidget({\n",
       "    'data': [{'type': 'scatter',\n",
       "              'uid': 'd7a4f1b4-7750-4dbd-b4be-3bedfcee7945',\n",
       "              'x': array(['Jan', 'Feb', 'Mar'], dtype=object),\n",
       "              'y': array([200, 220, 230])}],\n",
       "    'layout': {'template': '...',\n",
       "               'title': {'text': 'Sales Data for 2020'},\n",
       "               'xaxis': {'title': {'text': 'Month'}},\n",
       "               'yaxis': {'title': {'text': 'Value'}}}\n",
       "})"
      ]
     },
     "execution_count": 1,
     "metadata": {},
     "output_type": "execute_result"
    }
   ],
   "source": [
    "import pandas as pd\n",
    "import plotly.graph_objects as go\n",
    "from ipywidgets import widgets, interact\n",
    "\n",
    "# Example data\n",
    "data = {\n",
    "    'Year': [2020, 2020, 2020, 2021, 2021, 2021],\n",
    "    'Month': ['Jan', 'Feb', 'Mar', 'Jan', 'Feb', 'Mar'],\n",
    "    'Value': [200, 220, 230, 210, 215, 225]\n",
    "}\n",
    "df = pd.DataFrame(data)\n",
    "\n",
    "# Initialize the FigureWidget with empty data\n",
    "fig = go.FigureWidget()\n",
    "fig.add_scatter()\n",
    "fig.update_layout(title='Sales Data', xaxis_title='Month', yaxis_title='Value')\n",
    "\n",
    "# Function to update the graph based on the selected year\n",
    "def update_plot(year):\n",
    "    filtered_df = df[df['Year'] == year]\n",
    "    with fig.batch_update():\n",
    "        fig.data[0].x = filtered_df['Month']\n",
    "        fig.data[0].y = filtered_df['Value']\n",
    "        fig.layout.title = f'Sales Data for {year}'\n",
    "\n",
    "# Widget to select the year\n",
    "year_selector = widgets.Select(options=df['Year'].unique(), description='Year:')\n",
    "\n",
    "# Use `interact` to create interactive widgets and display the plot\n",
    "interact(update_plot, year=year_selector)\n",
    "\n",
    "# Display the FigureWidget\n",
    "fig\n"
   ]
  },
  {
   "cell_type": "code",
   "execution_count": 2,
   "metadata": {},
   "outputs": [
    {
     "data": {
      "application/vnd.jupyter.widget-view+json": {
       "model_id": "ef2a9393b4c44a0b99335db07d17c470",
       "version_major": 2,
       "version_minor": 0
      },
      "text/plain": [
       "interactive(children=(Dropdown(description='Category:', options=('Fruits', 'Vegetables'), value='Fruits'), Sel…"
      ]
     },
     "metadata": {},
     "output_type": "display_data"
    },
    {
     "data": {
      "application/vnd.jupyter.widget-view+json": {
       "model_id": "e343811d5098478db0c6d955538b7e1f",
       "version_major": 2,
       "version_minor": 0
      },
      "text/plain": [
       "VBox(children=(FigureWidget({\n",
       "    'data': [{'type': 'bar',\n",
       "              'uid': '3d152206-6c0f-444b-a318-c4e5e…"
      ]
     },
     "execution_count": 2,
     "metadata": {},
     "output_type": "execute_result"
    }
   ],
   "source": [
    "import pandas as pd\n",
    "import plotly.graph_objects as go\n",
    "from ipywidgets import widgets, interact, VBox\n",
    "\n",
    "# Expanded example data\n",
    "data = {\n",
    "    'Category': ['Fruits', 'Fruits', 'Fruits', 'Vegetables', 'Vegetables', 'Vegetables', 'Fruits', 'Fruits', 'Vegetables', 'Vegetables'],\n",
    "    'Subcategory': ['Apple', 'Banana', 'Orange', 'Carrot', 'Tomato', 'Broccoli', 'Grapes', 'Peach', 'Onion', 'Garlic'],\n",
    "    'Value': [20, 15, 25, 30, 22, 18, 17, 19, 21, 13],\n",
    "    'Region': ['North', 'North', 'South', 'South', 'East', 'East', 'West', 'West', 'North', 'South']\n",
    "}\n",
    "df = pd.DataFrame(data)\n",
    "\n",
    "# Initialize FigureWidgets with empty data\n",
    "bar_fig = go.FigureWidget()\n",
    "bar_fig.add_bar()\n",
    "bar_fig.update_layout(title='Bar Chart', xaxis_title='Subcategory', yaxis_title='Value')\n",
    "\n",
    "pie_fig = go.FigureWidget()\n",
    "pie_fig.add_pie()\n",
    "pie_fig.update_layout(title='Pie Chart')\n",
    "\n",
    "# Function to update the graphs based on selected category and region\n",
    "def update_charts(category, region):\n",
    "    if 'All' in region:\n",
    "        filtered_df = df[df['Category'] == category]\n",
    "    else:\n",
    "        filtered_df = df[(df['Category'] == category) & (df['Region'].isin(region))]\n",
    "    \n",
    "    with bar_fig.batch_update():\n",
    "        bar_fig.data[0].x = filtered_df['Subcategory']\n",
    "        bar_fig.data[0].y = filtered_df['Value']\n",
    "        bar_fig.layout.title = f'Bar Chart of {category} in {\", \".join(region)}'\n",
    "    \n",
    "    with pie_fig.batch_update():\n",
    "        pie_fig.data[0].labels = filtered_df['Subcategory']\n",
    "        pie_fig.data[0].values = filtered_df['Value']\n",
    "        pie_fig.layout.title = f'Pie Chart of {category} in {\", \".join(region)}'\n",
    "\n",
    "# Widgets for selecting the category and region\n",
    "category_selector = widgets.Dropdown(options=df['Category'].unique(), description='Category:')\n",
    "region_options = ['All'] + df['Region'].unique().tolist()\n",
    "region_selector = widgets.SelectMultiple(options=region_options, value=('All',), description='Region:')\n",
    "\n",
    "# Use `interact` with the widgets and the update function\n",
    "interact(update_charts, category=category_selector, region=region_selector)\n",
    "\n",
    "# Display the FigureWidgets\n",
    "VBox([bar_fig, pie_fig])\n"
   ]
  }
 ],
 "metadata": {
  "kernelspec": {
   "display_name": "DataAnalytics",
   "language": "python",
   "name": "python3"
  },
  "language_info": {
   "codemirror_mode": {
    "name": "ipython",
    "version": 3
   },
   "file_extension": ".py",
   "mimetype": "text/x-python",
   "name": "python",
   "nbconvert_exporter": "python",
   "pygments_lexer": "ipython3",
   "version": "3.10.13"
  }
 },
 "nbformat": 4,
 "nbformat_minor": 2
}
